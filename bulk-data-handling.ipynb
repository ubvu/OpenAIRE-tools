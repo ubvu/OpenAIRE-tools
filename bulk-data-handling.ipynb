{
 "cells": [
  {
   "cell_type": "markdown",
   "metadata": {},
   "source": [
    "# OpenAIRE Community Data Dump Handling: Extraction, Tranformation and Enrichment\n",
    "\n",
    "In this notebook we will start with one of the [OpenAIRE Community Subgraphs](https://graph.openaire.eu/docs/downloads/subgraphs) to enrich that informatino for further analysis.\n",
    "\n",
    "This data process will extract an [OpenAIRE community data dump from Zenodo](https://doi.org/10.5281/zenodo.3974604), transforms it in to a portable file format .parquet (and updatable with changes for time seires analysis), that can be used to query with DuckDB, to enrich this with additional data  (also in .parquet, for join queries).\n",
    "\n",
    "This additional data can be societal impact data from [Altmetric.com](https://details-page-api-docs.altmetric.com/) or [Overton.io](https://app.overton.io/swagger.php), Gender data using [genderize.io](https://genderize.io/documentation), sdg classification using [aurora-sdg](https://aurora-universities.eu/sdg-research/sdg-api/)\n",
    "\n",
    "This script needs to be written in a way so that it can run every month using  the latest data.\n",
    "\n",
    "## Processing steps\n",
    "\n",
    "* the folder ./data/ is put in .gitignore to prevent that bulk datais sent to a code repository. So make sure that folder exists, and mkdir if not exists. \n",
    "* The script downloads the lastest Data Dump Tar file from one selected community. See https://doi.org/10.5281/zenodo.3974604 for the latest list. In our case the Aurora tar file. https://zenodo.org/records/14887484/files/aurora.tar?download=1\n",
    "  * Use the json record of zenodo to get to the latest record, and fetch the download link of the aurora.tar file. for example : https://zenodo.org/records/14887484/export/json or https://zenodo.org/api/records/14887484/versions/latest \n",
    "  Make the tar filename a variable, so it can be used for multiple community dumps.\n",
    "  Download the tar file in a target folder ./data/{filename+timestamp}/ where a subfolder is created using the filename and the timestamp. Make this also as a  variable to use later on.\n",
    "* Extract the tar file, to the compressed .json.gz files and put these in target folder ./data/{filename+timestamp}/01-extracted/\n",
    "* Transform the compressed .json.gz files into a single .parquet file in target folder ./data/{filename+timestamp}/02-transformed/\n",
    "Use instructions in sections \"Processing JSON files with DuckDB\" and \"Full dataset, bit by bit\" and \"Splitting and Processing JSON Files in Batches\" https://github.com/mosart/OpenAIRE-tools/blob/main/duckdb-querying.ipynb to start with. (be aware of error messages, and fix the issues to get all the data in)\n",
    "* Extract the SQL schema (schema-datadump.sql) from the .parquet file and put it in target folder ./data/{filename+timestamp}/02-transformed/ This is needed for further processing of the records with DuckDB later on.\n",
    "Use instructions in section \"Extracting Schema from Parquet File\" https://github.com/mosart/OpenAIRE-tools/blob/main/duckdb-querying.ipynb to start with.\n",
    "* Query to get all identifiers: openaire id, doi, isbn, hdl, etc.\n",
    "* **Get Altmetric data:**\n",
    "* Extract the Altmetric data using the Identifiers. put that in target folder ./data/{filename+timestamp}/03-altmetric-extracted/\n",
    "* Transform the Altmetric data to a single .parquet file, with the identifiers. put that in target folder ./data/{filename+timestamp}/04-altmetric-transformed/ This way duckDB can make a join when querying over multiple parquet files.\n",
    "* Extract the SQL schema (schema-altmetric.sql) from the .parquet file and put it in target folder ./data/{filename+timestamp}/04-altmetric-transformed/\n",
    "* **Get Overton data:** Repeat the altmetric steps, bun than for Overton.\n",
    "* **Get Gender data** query for the Author names and country codes, and run them over the gerderize api\n",
    "* **Get SDG data** query for the abstracts, and run abstracs larger than 100 tokens over the aurora-SDG api.\n",
    "\n",
    "ss"
   ]
  },
  {
   "cell_type": "code",
   "execution_count": 3,
   "metadata": {},
   "outputs": [
    {
     "name": "stdout",
     "output_type": "stream",
     "text": [
      "Defaulting to user installation because normal site-packages is not writeable\n",
      "Collecting pandas\n",
      "  Downloading pandas-2.3.0-cp310-cp310-manylinux_2_17_x86_64.manylinux2014_x86_64.whl.metadata (91 kB)\n",
      "Collecting numpy>=1.22.4 (from pandas)\n",
      "  Downloading numpy-2.2.6-cp310-cp310-manylinux_2_17_x86_64.manylinux2014_x86_64.whl.metadata (62 kB)\n",
      "Requirement already satisfied: python-dateutil>=2.8.2 in /usr/local/lib/python3.10/dist-packages (from pandas) (2.9.0.post0)\n",
      "Requirement already satisfied: pytz>=2020.1 in /usr/lib/python3/dist-packages (from pandas) (2022.1)\n",
      "Collecting tzdata>=2022.7 (from pandas)\n",
      "  Downloading tzdata-2025.2-py2.py3-none-any.whl.metadata (1.4 kB)\n",
      "Requirement already satisfied: six>=1.5 in /usr/lib/python3/dist-packages (from python-dateutil>=2.8.2->pandas) (1.16.0)\n",
      "Downloading pandas-2.3.0-cp310-cp310-manylinux_2_17_x86_64.manylinux2014_x86_64.whl (12.3 MB)\n",
      "\u001b[2K   \u001b[90m━━━━━━━━━━━━━━━━━━━━━━━━━━━━━━━━━━━━━━━━\u001b[0m \u001b[32m12.3/12.3 MB\u001b[0m \u001b[31m142.3 MB/s\u001b[0m eta \u001b[36m0:00:00\u001b[0m\n",
      "\u001b[?25hDownloading numpy-2.2.6-cp310-cp310-manylinux_2_17_x86_64.manylinux2014_x86_64.whl (16.8 MB)\n",
      "\u001b[2K   \u001b[90m━━━━━━━━━━━━━━━━━━━━━━━━━━━━━━━━━━━━━━━━\u001b[0m \u001b[32m16.8/16.8 MB\u001b[0m \u001b[31m185.3 MB/s\u001b[0m eta \u001b[36m0:00:00\u001b[0m\n",
      "\u001b[?25hDownloading tzdata-2025.2-py2.py3-none-any.whl (347 kB)\n",
      "Installing collected packages: tzdata, numpy, pandas\n",
      "\u001b[2K   \u001b[91m━━━━━━━━━━━━━\u001b[0m\u001b[90m╺\u001b[0m\u001b[90m━━━━━━━━━━━━━━━━━━━━━━━━━━\u001b[0m \u001b[32m1/3\u001b[0m [numpy]\u001b[33m  WARNING: The scripts f2py and numpy-config are installed in '/home/mvanderfee3/.local/bin' which is not on PATH.\n",
      "  Consider adding this directory to PATH or, if you prefer to suppress this warning, use --no-warn-script-location.\u001b[0m\u001b[33m\n",
      "\u001b[2K   \u001b[90m━━━━━━━━━━━━━━━━━━━━━━━━━━━━━━━━━━━━━━━━\u001b[0m \u001b[32m3/3\u001b[0m [pandas]2m2/3\u001b[0m [pandas]\n",
      "\u001b[1A\u001b[2KSuccessfully installed numpy-2.2.6 pandas-2.3.0 tzdata-2025.2\n"
     ]
    }
   ],
   "source": [
    "! pip install pandas"
   ]
  },
  {
   "cell_type": "code",
   "execution_count": 5,
   "metadata": {},
   "outputs": [
    {
     "name": "stdout",
     "output_type": "stream",
     "text": [
      "Found 37 .tar files in the dataset.\n",
      "Details of .tar files:\n",
      "[{'File Name': 'energy-planning_1.tar', 'Checksum': 'md5:0a2f551db46a9e629bb1d0a0098ae5cd', 'Size (Readable)': '6.99 GB', 'Download Link': 'https://zenodo.org/api/records/14887484/files/energy-planning_1.tar/content'}, {'File Name': 'edih-adria_1.tar', 'Checksum': 'md5:23559bed5a9023398b431777bdc8a126', 'Size (Readable)': '5.86 GB', 'Download Link': 'https://zenodo.org/api/records/14887484/files/edih-adria_1.tar/content'}, {'File Name': 'uarctic_1.tar', 'Checksum': 'md5:302e3844ebd041c5f4ed94505eb9a285', 'Size (Readable)': '9.75 GB', 'Download Link': 'https://zenodo.org/api/records/14887484/files/uarctic_1.tar/content'}, {'File Name': 'netherlands_1.tar', 'Checksum': 'md5:d1416c058b3961483aac340750ea8726', 'Size (Readable)': '3.91 GB', 'Download Link': 'https://zenodo.org/api/records/14887484/files/netherlands_1.tar/content'}, {'File Name': 'knowmad_1.tar', 'Checksum': 'md5:a79573a02f2c9a9d65c33b3f3a2eaab9', 'Size (Readable)': '10.08 GB', 'Download Link': 'https://zenodo.org/api/records/14887484/files/knowmad_1.tar/content'}, {'File Name': 'argo-france.tar', 'Checksum': 'md5:2ce6b0fcc6f876b600207759a0dc9758', 'Size (Readable)': '0.00 GB', 'Download Link': 'https://zenodo.org/api/records/14887484/files/argo-france.tar/content'}, {'File Name': 'civica.tar', 'Checksum': 'md5:d2f24bbef06809a91d124f0b07cb1034', 'Size (Readable)': '0.23 GB', 'Download Link': 'https://zenodo.org/api/records/14887484/files/civica.tar/content'}, {'File Name': 'covid-19.tar', 'Checksum': 'md5:3b741e8138f39932ca6c13ca106fe5d3', 'Size (Readable)': '2.03 GB', 'Download Link': 'https://zenodo.org/api/records/14887484/files/covid-19.tar/content'}, {'File Name': 'aurora.tar', 'Checksum': 'md5:9b6a8f38cd6f0ce16a85dfc020c220bf', 'Size (Readable)': '1.73 GB', 'Download Link': 'https://zenodo.org/api/records/14887484/files/aurora.tar/content'}, {'File Name': 'dh-ch.tar', 'Checksum': 'md5:dbebdcc8ad7fd1dc7894fe03ebe2a978', 'Size (Readable)': '1.16 GB', 'Download Link': 'https://zenodo.org/api/records/14887484/files/dh-ch.tar/content'}, {'File Name': 'heritage-science.tar', 'Checksum': 'md5:ffd2537b08c58d78eea4bc23a99b3c07', 'Size (Readable)': '0.03 GB', 'Download Link': 'https://zenodo.org/api/records/14887484/files/heritage-science.tar/content'}, {'File Name': 'dth.tar', 'Checksum': 'md5:643894810ac8bfce0f8273cf40d05a7a', 'Size (Readable)': '0.01 GB', 'Download Link': 'https://zenodo.org/api/records/14887484/files/dth.tar/content'}, {'File Name': 'egrise.tar', 'Checksum': 'md5:2f52b49fa8bd983bcf6884d6c4f5e952', 'Size (Readable)': '0.02 GB', 'Download Link': 'https://zenodo.org/api/records/14887484/files/egrise.tar/content'}, {'File Name': 'lifewatch-eric.tar', 'Checksum': 'md5:213c3f1ac83454ec01560d683a26362d', 'Size (Readable)': '0.05 GB', 'Download Link': 'https://zenodo.org/api/records/14887484/files/lifewatch-eric.tar/content'}, {'File Name': 'iperionhs.tar', 'Checksum': 'md5:6ffaf325257d9af5e43daa68505b1797', 'Size (Readable)': '0.00 GB', 'Download Link': 'https://zenodo.org/api/records/14887484/files/iperionhs.tar/content'}, {'File Name': 'eutopia.tar', 'Checksum': 'md5:f9eb5a1bb86caf6a4f2a7563453fc6df', 'Size (Readable)': '1.60 GB', 'Download Link': 'https://zenodo.org/api/records/14887484/files/eutopia.tar/content'}, {'File Name': 'sdsn-gr.tar', 'Checksum': 'md5:696f8b509a12c0bc898e1b9040a53790', 'Size (Readable)': '0.05 GB', 'Download Link': 'https://zenodo.org/api/records/14887484/files/sdsn-gr.tar/content'}, {'File Name': 'north-american-studies.tar', 'Checksum': 'md5:b677758820184053d9c1e6714394dd70', 'Size (Readable)': '0.36 GB', 'Download Link': 'https://zenodo.org/api/records/14887484/files/north-american-studies.tar/content'}, {'File Name': 'knowmad_3.tar', 'Checksum': 'md5:68c5839a6355ea26f979ba781bc26a56', 'Size (Readable)': '10.06 GB', 'Download Link': 'https://zenodo.org/api/records/14887484/files/knowmad_3.tar/content'}, {'File Name': 'knowmad_2.tar', 'Checksum': 'md5:95442e14703ba5db573cbf12296d76f4', 'Size (Readable)': '10.07 GB', 'Download Link': 'https://zenodo.org/api/records/14887484/files/knowmad_2.tar/content'}, {'File Name': 'knowmad_5.tar', 'Checksum': 'md5:35482782eb621df9ec7365d34ccf3d07', 'Size (Readable)': '5.37 GB', 'Download Link': 'https://zenodo.org/api/records/14887484/files/knowmad_5.tar/content'}, {'File Name': 'knowmad_4.tar', 'Checksum': 'md5:d770fcd862d5d7d4d918c59f028e24da', 'Size (Readable)': '10.04 GB', 'Download Link': 'https://zenodo.org/api/records/14887484/files/knowmad_4.tar/content'}, {'File Name': 'beopen.tar', 'Checksum': 'md5:447dbe25eaedc20a75568fd340f8e25d', 'Size (Readable)': '0.20 GB', 'Download Link': 'https://zenodo.org/api/records/14887484/files/beopen.tar/content'}, {'File Name': 'dariah.tar', 'Checksum': 'md5:814e3a79b29da6b605018009f8575a8c', 'Size (Readable)': '0.02 GB', 'Download Link': 'https://zenodo.org/api/records/14887484/files/dariah.tar/content'}, {'File Name': 'eu-conexus.tar', 'Checksum': 'md5:19c86e2b79bde505112fb6b3d6e38eef', 'Size (Readable)': '0.18 GB', 'Download Link': 'https://zenodo.org/api/records/14887484/files/eu-conexus.tar/content'}, {'File Name': 'elixir-gr.tar', 'Checksum': 'md5:e1dfe593d40c498e31a6ff5132da5fa4', 'Size (Readable)': '0.01 GB', 'Download Link': 'https://zenodo.org/api/records/14887484/files/elixir-gr.tar/content'}, {'File Name': 'eut.tar', 'Checksum': 'md5:3da085b997006205c694b023aefafe7c', 'Size (Readable)': '0.21 GB', 'Download Link': 'https://zenodo.org/api/records/14887484/files/eut.tar/content'}, {'File Name': 'enermaps.tar', 'Checksum': 'md5:b157900f8cb97cf4aa4f82ef59e2ff6e', 'Size (Readable)': '1.59 GB', 'Download Link': 'https://zenodo.org/api/records/14887484/files/enermaps.tar/content'}, {'File Name': 'forthem.tar', 'Checksum': 'md5:7864a0ddb0b676bb053bbcdf12a12525', 'Size (Readable)': '0.91 GB', 'Download Link': 'https://zenodo.org/api/records/14887484/files/forthem.tar/content'}, {'File Name': 'inria.tar', 'Checksum': 'md5:66a7e88ddda08626cbf26e182f7eafea', 'Size (Readable)': '0.27 GB', 'Download Link': 'https://zenodo.org/api/records/14887484/files/inria.tar/content'}, {'File Name': 'mes.tar', 'Checksum': 'md5:10362f805616e391d350b395d9ae30a3', 'Size (Readable)': '0.38 GB', 'Download Link': 'https://zenodo.org/api/records/14887484/files/mes.tar/content'}, {'File Name': 'neanias-underwater.tar', 'Checksum': 'md5:4422b9a3be4a1e6cad61da46044a0ca2', 'Size (Readable)': '0.02 GB', 'Download Link': 'https://zenodo.org/api/records/14887484/files/neanias-underwater.tar/content'}, {'File Name': 'neanias-atmospheric.tar', 'Checksum': 'md5:a3b9edbd956aee813cdfe97655c3fc9e', 'Size (Readable)': '0.57 GB', 'Download Link': 'https://zenodo.org/api/records/14887484/files/neanias-atmospheric.tar/content'}, {'File Name': 'neanias-space.tar', 'Checksum': 'md5:618fbecca154af288dc1c92246b3d73b', 'Size (Readable)': '0.73 GB', 'Download Link': 'https://zenodo.org/api/records/14887484/files/neanias-space.tar/content'}, {'File Name': 'rural-digital-europe.tar', 'Checksum': 'md5:6543f5ead539a8bbad04593b641af0a1', 'Size (Readable)': '0.83 GB', 'Download Link': 'https://zenodo.org/api/records/14887484/files/rural-digital-europe.tar/content'}, {'File Name': 'tunet.tar', 'Checksum': 'md5:178b5a944133ded65d741ea5dc2c5990', 'Size (Readable)': '0.05 GB', 'Download Link': 'https://zenodo.org/api/records/14887484/files/tunet.tar/content'}, {'File Name': 'ni.tar', 'Checksum': 'md5:e82f580135522acd2da7277ea9389718', 'Size (Readable)': '3.01 GB', 'Download Link': 'https://zenodo.org/api/records/14887484/files/ni.tar/content'}]\n"
     ]
    }
   ],
   "source": [
    "import requests\n",
    "import json\n",
    "\n",
    "# Fetch the JSON data from the URL\n",
    "url = \"https://zenodo.org/api/records/14887484/versions/latest\"\n",
    "response = requests.get(url)\n",
    "data = response.json()\n",
    "\n",
    "# Extract the files information\n",
    "files = data.get(\"files\", [])\n",
    "\n",
    "# Create a list of dictionaries for the .tar files\n",
    "tar_files = []\n",
    "for file in files:\n",
    "    if file[\"key\"].endswith(\".tar\"):\n",
    "        tar_files.append({\n",
    "            \"File Name\": file[\"key\"],\n",
    "            \"Checksum\": file[\"checksum\"],\n",
    "            \"Size (Readable)\": f\"{file['size'] / (1024**3):.2f} GB\",  # Convert bytes to GB\n",
    "            \"Download Link\": file[\"links\"][\"self\"]\n",
    "        })\n",
    "\n",
    "# print the tar files\n",
    "# If no tar files found, print a message\n",
    "if not tar_files:\n",
    "    print(\"No .tar files found in the dataset.\")\n",
    "else:\n",
    "    print(f\"Found {len(tar_files)} .tar files in the dataset.\")\n",
    "    print(\"Details of .tar files:\")\n",
    "    print(tar_files)"
   ]
  },
  {
   "cell_type": "code",
   "execution_count": 7,
   "metadata": {},
   "outputs": [
    {
     "name": "stdout",
     "output_type": "stream",
     "text": [
      "                     File Name                              Checksum  \\\n",
      "0        energy-planning_1.tar  md5:0a2f551db46a9e629bb1d0a0098ae5cd   \n",
      "1             edih-adria_1.tar  md5:23559bed5a9023398b431777bdc8a126   \n",
      "2                uarctic_1.tar  md5:302e3844ebd041c5f4ed94505eb9a285   \n",
      "3            netherlands_1.tar  md5:d1416c058b3961483aac340750ea8726   \n",
      "4                knowmad_1.tar  md5:a79573a02f2c9a9d65c33b3f3a2eaab9   \n",
      "5              argo-france.tar  md5:2ce6b0fcc6f876b600207759a0dc9758   \n",
      "6                   civica.tar  md5:d2f24bbef06809a91d124f0b07cb1034   \n",
      "7                 covid-19.tar  md5:3b741e8138f39932ca6c13ca106fe5d3   \n",
      "8                   aurora.tar  md5:9b6a8f38cd6f0ce16a85dfc020c220bf   \n",
      "9                    dh-ch.tar  md5:dbebdcc8ad7fd1dc7894fe03ebe2a978   \n",
      "10        heritage-science.tar  md5:ffd2537b08c58d78eea4bc23a99b3c07   \n",
      "11                     dth.tar  md5:643894810ac8bfce0f8273cf40d05a7a   \n",
      "12                  egrise.tar  md5:2f52b49fa8bd983bcf6884d6c4f5e952   \n",
      "13          lifewatch-eric.tar  md5:213c3f1ac83454ec01560d683a26362d   \n",
      "14               iperionhs.tar  md5:6ffaf325257d9af5e43daa68505b1797   \n",
      "15                 eutopia.tar  md5:f9eb5a1bb86caf6a4f2a7563453fc6df   \n",
      "16                 sdsn-gr.tar  md5:696f8b509a12c0bc898e1b9040a53790   \n",
      "17  north-american-studies.tar  md5:b677758820184053d9c1e6714394dd70   \n",
      "18               knowmad_3.tar  md5:68c5839a6355ea26f979ba781bc26a56   \n",
      "19               knowmad_2.tar  md5:95442e14703ba5db573cbf12296d76f4   \n",
      "20               knowmad_5.tar  md5:35482782eb621df9ec7365d34ccf3d07   \n",
      "21               knowmad_4.tar  md5:d770fcd862d5d7d4d918c59f028e24da   \n",
      "22                  beopen.tar  md5:447dbe25eaedc20a75568fd340f8e25d   \n",
      "23                  dariah.tar  md5:814e3a79b29da6b605018009f8575a8c   \n",
      "24              eu-conexus.tar  md5:19c86e2b79bde505112fb6b3d6e38eef   \n",
      "25               elixir-gr.tar  md5:e1dfe593d40c498e31a6ff5132da5fa4   \n",
      "26                     eut.tar  md5:3da085b997006205c694b023aefafe7c   \n",
      "27                enermaps.tar  md5:b157900f8cb97cf4aa4f82ef59e2ff6e   \n",
      "28                 forthem.tar  md5:7864a0ddb0b676bb053bbcdf12a12525   \n",
      "29                   inria.tar  md5:66a7e88ddda08626cbf26e182f7eafea   \n",
      "30                     mes.tar  md5:10362f805616e391d350b395d9ae30a3   \n",
      "31      neanias-underwater.tar  md5:4422b9a3be4a1e6cad61da46044a0ca2   \n",
      "32     neanias-atmospheric.tar  md5:a3b9edbd956aee813cdfe97655c3fc9e   \n",
      "33           neanias-space.tar  md5:618fbecca154af288dc1c92246b3d73b   \n",
      "34    rural-digital-europe.tar  md5:6543f5ead539a8bbad04593b641af0a1   \n",
      "35                   tunet.tar  md5:178b5a944133ded65d741ea5dc2c5990   \n",
      "36                      ni.tar  md5:e82f580135522acd2da7277ea9389718   \n",
      "\n",
      "   Size (Readable)                                      Download Link  \n",
      "0          6.99 GB  https://zenodo.org/api/records/14887484/files/...  \n",
      "1          5.86 GB  https://zenodo.org/api/records/14887484/files/...  \n",
      "2          9.75 GB  https://zenodo.org/api/records/14887484/files/...  \n",
      "3          3.91 GB  https://zenodo.org/api/records/14887484/files/...  \n",
      "4         10.08 GB  https://zenodo.org/api/records/14887484/files/...  \n",
      "5          0.00 GB  https://zenodo.org/api/records/14887484/files/...  \n",
      "6          0.23 GB  https://zenodo.org/api/records/14887484/files/...  \n",
      "7          2.03 GB  https://zenodo.org/api/records/14887484/files/...  \n",
      "8          1.73 GB  https://zenodo.org/api/records/14887484/files/...  \n",
      "9          1.16 GB  https://zenodo.org/api/records/14887484/files/...  \n",
      "10         0.03 GB  https://zenodo.org/api/records/14887484/files/...  \n",
      "11         0.01 GB  https://zenodo.org/api/records/14887484/files/...  \n",
      "12         0.02 GB  https://zenodo.org/api/records/14887484/files/...  \n",
      "13         0.05 GB  https://zenodo.org/api/records/14887484/files/...  \n",
      "14         0.00 GB  https://zenodo.org/api/records/14887484/files/...  \n",
      "15         1.60 GB  https://zenodo.org/api/records/14887484/files/...  \n",
      "16         0.05 GB  https://zenodo.org/api/records/14887484/files/...  \n",
      "17         0.36 GB  https://zenodo.org/api/records/14887484/files/...  \n",
      "18        10.06 GB  https://zenodo.org/api/records/14887484/files/...  \n",
      "19        10.07 GB  https://zenodo.org/api/records/14887484/files/...  \n",
      "20         5.37 GB  https://zenodo.org/api/records/14887484/files/...  \n",
      "21        10.04 GB  https://zenodo.org/api/records/14887484/files/...  \n",
      "22         0.20 GB  https://zenodo.org/api/records/14887484/files/...  \n",
      "23         0.02 GB  https://zenodo.org/api/records/14887484/files/...  \n",
      "24         0.18 GB  https://zenodo.org/api/records/14887484/files/...  \n",
      "25         0.01 GB  https://zenodo.org/api/records/14887484/files/...  \n",
      "26         0.21 GB  https://zenodo.org/api/records/14887484/files/...  \n",
      "27         1.59 GB  https://zenodo.org/api/records/14887484/files/...  \n",
      "28         0.91 GB  https://zenodo.org/api/records/14887484/files/...  \n",
      "29         0.27 GB  https://zenodo.org/api/records/14887484/files/...  \n",
      "30         0.38 GB  https://zenodo.org/api/records/14887484/files/...  \n",
      "31         0.02 GB  https://zenodo.org/api/records/14887484/files/...  \n",
      "32         0.57 GB  https://zenodo.org/api/records/14887484/files/...  \n",
      "33         0.73 GB  https://zenodo.org/api/records/14887484/files/...  \n",
      "34         0.83 GB  https://zenodo.org/api/records/14887484/files/...  \n",
      "35         0.05 GB  https://zenodo.org/api/records/14887484/files/...  \n",
      "36         3.01 GB  https://zenodo.org/api/records/14887484/files/...  \n"
     ]
    }
   ],
   "source": [
    "# Create a DataFrame to hold the tar files information for later use.\n",
    "\n",
    "import pandas as pd\n",
    "\n",
    "# Convert the list of dictionaries to a DataFrame\n",
    "df_tar_files = pd.DataFrame(tar_files)\n",
    "\n",
    "# Print the DataFrame\n",
    "print(df_tar_files)"
   ]
  },
  {
   "cell_type": "code",
   "execution_count": 1,
   "metadata": {},
   "outputs": [
    {
     "name": "stdout",
     "output_type": "stream",
     "text": [
      "URL: https://zenodo.org/records/14887484/files/aurora.tar?download=1\n",
      "File Name: aurora.tar\n",
      "Download Path: ./data/01_input/aurora.tar\n",
      "Extraction Path: ./data/02_extracted\n"
     ]
    }
   ],
   "source": [
    "# Variables\n",
    "\n",
    "# URL of the tar file\n",
    "url = \"https://zenodo.org/records/14887484/files/aurora.tar?download=1\"\n",
    "\n",
    "# extract the file name from the URL\n",
    "file_name = url.split(\"/\")[-1]\n",
    "\n",
    "# remove everything after the question mark\n",
    "file_name = file_name.split(\"?\")[0]\n",
    "\n",
    "\n",
    "# Path to save the downloaded tar file using file_name variable\n",
    "download_path = f\"./data/01_input/{file_name}\"\n",
    "\n",
    "# Path to save the extracted files\n",
    "extraction_path = \"./data/02_extracted\"\n",
    "\n",
    "print(f\"URL: {url}\")\n",
    "print(f\"File Name: {file_name}\")\n",
    "print(f\"Download Path: {download_path}\")\n",
    "print(f\"Extraction Path: {extraction_path}\")"
   ]
  },
  {
   "cell_type": "markdown",
   "metadata": {},
   "source": [
    "Download the tar file"
   ]
  },
  {
   "cell_type": "code",
   "execution_count": 10,
   "metadata": {},
   "outputs": [
    {
     "ename": "KeyboardInterrupt",
     "evalue": "",
     "output_type": "error",
     "traceback": [
      "\u001b[31m---------------------------------------------------------------------------\u001b[39m",
      "\u001b[31mAttributeError\u001b[39m                            Traceback (most recent call last)",
      "\u001b[36mFile \u001b[39m\u001b[32m_pydevd_sys_monitoring\\\\_pydevd_sys_monitoring_cython.pyx:191\u001b[39m, in \u001b[36m_pydevd_sys_monitoring_cython._get_unhandled_exception_frame\u001b[39m\u001b[34m()\u001b[39m\n",
      "\u001b[31mAttributeError\u001b[39m: Not the same exception",
      "\nDuring handling of the above exception, another exception occurred:\n",
      "\u001b[31mKeyboardInterrupt\u001b[39m                         Traceback (most recent call last)",
      "\u001b[36mCell\u001b[39m\u001b[36m \u001b[39m\u001b[32mIn[10]\u001b[39m\u001b[32m, line 8\u001b[39m\n\u001b[32m      5\u001b[39m os.makedirs(os.path.dirname(download_path), exist_ok=\u001b[38;5;28;01mTrue\u001b[39;00m)\n\u001b[32m      7\u001b[39m \u001b[38;5;66;03m# Download the tar file\u001b[39;00m\n\u001b[32m----> \u001b[39m\u001b[32m8\u001b[39m response = \u001b[43mrequests\u001b[49m\u001b[43m.\u001b[49m\u001b[43mget\u001b[49m\u001b[43m(\u001b[49m\u001b[43murl\u001b[49m\u001b[43m)\u001b[49m\n\u001b[32m      9\u001b[39m \u001b[38;5;28;01mwith\u001b[39;00m \u001b[38;5;28mopen\u001b[39m(download_path, \u001b[33m'\u001b[39m\u001b[33mwb\u001b[39m\u001b[33m'\u001b[39m) \u001b[38;5;28;01mas\u001b[39;00m file:\n\u001b[32m     10\u001b[39m     file.write(response.content)\n",
      "\u001b[36mFile \u001b[39m\u001b[32m~/github/OpenAIRE-tools/env/lib/python3.12/site-packages/requests/api.py:73\u001b[39m, in \u001b[36mget\u001b[39m\u001b[34m(url, params, **kwargs)\u001b[39m\n\u001b[32m     62\u001b[39m \u001b[38;5;28;01mdef\u001b[39;00m\u001b[38;5;250m \u001b[39m\u001b[34mget\u001b[39m(url, params=\u001b[38;5;28;01mNone\u001b[39;00m, **kwargs):\n\u001b[32m     63\u001b[39m \u001b[38;5;250m    \u001b[39m\u001b[33mr\u001b[39m\u001b[33;03m\"\"\"Sends a GET request.\u001b[39;00m\n\u001b[32m     64\u001b[39m \n\u001b[32m     65\u001b[39m \u001b[33;03m    :param url: URL for the new :class:`Request` object.\u001b[39;00m\n\u001b[32m   (...)\u001b[39m\u001b[32m     70\u001b[39m \u001b[33;03m    :rtype: requests.Response\u001b[39;00m\n\u001b[32m     71\u001b[39m \u001b[33;03m    \"\"\"\u001b[39;00m\n\u001b[32m---> \u001b[39m\u001b[32m73\u001b[39m     \u001b[38;5;28;01mreturn\u001b[39;00m \u001b[43mrequest\u001b[49m\u001b[43m(\u001b[49m\u001b[33;43m\"\u001b[39;49m\u001b[33;43mget\u001b[39;49m\u001b[33;43m\"\u001b[39;49m\u001b[43m,\u001b[49m\u001b[43m \u001b[49m\u001b[43murl\u001b[49m\u001b[43m,\u001b[49m\u001b[43m \u001b[49m\u001b[43mparams\u001b[49m\u001b[43m=\u001b[49m\u001b[43mparams\u001b[49m\u001b[43m,\u001b[49m\u001b[43m \u001b[49m\u001b[43m*\u001b[49m\u001b[43m*\u001b[49m\u001b[43mkwargs\u001b[49m\u001b[43m)\u001b[49m\n",
      "\u001b[36mFile \u001b[39m\u001b[32m~/github/OpenAIRE-tools/env/lib/python3.12/site-packages/requests/api.py:59\u001b[39m, in \u001b[36mrequest\u001b[39m\u001b[34m(method, url, **kwargs)\u001b[39m\n\u001b[32m     55\u001b[39m \u001b[38;5;66;03m# By using the 'with' statement we are sure the session is closed, thus we\u001b[39;00m\n\u001b[32m     56\u001b[39m \u001b[38;5;66;03m# avoid leaving sockets open which can trigger a ResourceWarning in some\u001b[39;00m\n\u001b[32m     57\u001b[39m \u001b[38;5;66;03m# cases, and look like a memory leak in others.\u001b[39;00m\n\u001b[32m     58\u001b[39m \u001b[38;5;28;01mwith\u001b[39;00m sessions.Session() \u001b[38;5;28;01mas\u001b[39;00m session:\n\u001b[32m---> \u001b[39m\u001b[32m59\u001b[39m     \u001b[38;5;28;01mreturn\u001b[39;00m \u001b[43msession\u001b[49m\u001b[43m.\u001b[49m\u001b[43mrequest\u001b[49m\u001b[43m(\u001b[49m\u001b[43mmethod\u001b[49m\u001b[43m=\u001b[49m\u001b[43mmethod\u001b[49m\u001b[43m,\u001b[49m\u001b[43m \u001b[49m\u001b[43murl\u001b[49m\u001b[43m=\u001b[49m\u001b[43murl\u001b[49m\u001b[43m,\u001b[49m\u001b[43m \u001b[49m\u001b[43m*\u001b[49m\u001b[43m*\u001b[49m\u001b[43mkwargs\u001b[49m\u001b[43m)\u001b[49m\n",
      "\u001b[36mFile \u001b[39m\u001b[32m~/github/OpenAIRE-tools/env/lib/python3.12/site-packages/requests/sessions.py:589\u001b[39m, in \u001b[36mSession.request\u001b[39m\u001b[34m(self, method, url, params, data, headers, cookies, files, auth, timeout, allow_redirects, proxies, hooks, stream, verify, cert, json)\u001b[39m\n\u001b[32m    584\u001b[39m send_kwargs = {\n\u001b[32m    585\u001b[39m     \u001b[33m\"\u001b[39m\u001b[33mtimeout\u001b[39m\u001b[33m\"\u001b[39m: timeout,\n\u001b[32m    586\u001b[39m     \u001b[33m\"\u001b[39m\u001b[33mallow_redirects\u001b[39m\u001b[33m\"\u001b[39m: allow_redirects,\n\u001b[32m    587\u001b[39m }\n\u001b[32m    588\u001b[39m send_kwargs.update(settings)\n\u001b[32m--> \u001b[39m\u001b[32m589\u001b[39m resp = \u001b[38;5;28;43mself\u001b[39;49m\u001b[43m.\u001b[49m\u001b[43msend\u001b[49m\u001b[43m(\u001b[49m\u001b[43mprep\u001b[49m\u001b[43m,\u001b[49m\u001b[43m \u001b[49m\u001b[43m*\u001b[49m\u001b[43m*\u001b[49m\u001b[43msend_kwargs\u001b[49m\u001b[43m)\u001b[49m\n\u001b[32m    591\u001b[39m \u001b[38;5;28;01mreturn\u001b[39;00m resp\n",
      "\u001b[36mFile \u001b[39m\u001b[32m~/github/OpenAIRE-tools/env/lib/python3.12/site-packages/requests/sessions.py:746\u001b[39m, in \u001b[36mSession.send\u001b[39m\u001b[34m(self, request, **kwargs)\u001b[39m\n\u001b[32m    743\u001b[39m         \u001b[38;5;28;01mpass\u001b[39;00m\n\u001b[32m    745\u001b[39m \u001b[38;5;28;01mif\u001b[39;00m \u001b[38;5;129;01mnot\u001b[39;00m stream:\n\u001b[32m--> \u001b[39m\u001b[32m746\u001b[39m     \u001b[43mr\u001b[49m\u001b[43m.\u001b[49m\u001b[43mcontent\u001b[49m\n\u001b[32m    748\u001b[39m \u001b[38;5;28;01mreturn\u001b[39;00m r\n",
      "\u001b[36mFile \u001b[39m\u001b[32m~/github/OpenAIRE-tools/env/lib/python3.12/site-packages/requests/models.py:902\u001b[39m, in \u001b[36mResponse.content\u001b[39m\u001b[34m(self)\u001b[39m\n\u001b[32m    900\u001b[39m         \u001b[38;5;28mself\u001b[39m._content = \u001b[38;5;28;01mNone\u001b[39;00m\n\u001b[32m    901\u001b[39m     \u001b[38;5;28;01melse\u001b[39;00m:\n\u001b[32m--> \u001b[39m\u001b[32m902\u001b[39m         \u001b[38;5;28mself\u001b[39m._content = \u001b[33;43mb\u001b[39;49m\u001b[33;43m\"\u001b[39;49m\u001b[33;43m\"\u001b[39;49m\u001b[43m.\u001b[49m\u001b[43mjoin\u001b[49m\u001b[43m(\u001b[49m\u001b[38;5;28;43mself\u001b[39;49m\u001b[43m.\u001b[49m\u001b[43miter_content\u001b[49m\u001b[43m(\u001b[49m\u001b[43mCONTENT_CHUNK_SIZE\u001b[49m\u001b[43m)\u001b[49m\u001b[43m)\u001b[49m \u001b[38;5;129;01mor\u001b[39;00m \u001b[33mb\u001b[39m\u001b[33m\"\u001b[39m\u001b[33m\"\u001b[39m\n\u001b[32m    904\u001b[39m \u001b[38;5;28mself\u001b[39m._content_consumed = \u001b[38;5;28;01mTrue\u001b[39;00m\n\u001b[32m    905\u001b[39m \u001b[38;5;66;03m# don't need to release the connection; that's been handled by urllib3\u001b[39;00m\n\u001b[32m    906\u001b[39m \u001b[38;5;66;03m# since we exhausted the data.\u001b[39;00m\n",
      "\u001b[36mFile \u001b[39m\u001b[32m~/github/OpenAIRE-tools/env/lib/python3.12/site-packages/requests/models.py:820\u001b[39m, in \u001b[36mResponse.iter_content.<locals>.generate\u001b[39m\u001b[34m()\u001b[39m\n\u001b[32m    818\u001b[39m \u001b[38;5;28;01mif\u001b[39;00m \u001b[38;5;28mhasattr\u001b[39m(\u001b[38;5;28mself\u001b[39m.raw, \u001b[33m\"\u001b[39m\u001b[33mstream\u001b[39m\u001b[33m\"\u001b[39m):\n\u001b[32m    819\u001b[39m     \u001b[38;5;28;01mtry\u001b[39;00m:\n\u001b[32m--> \u001b[39m\u001b[32m820\u001b[39m         \u001b[38;5;28;01myield from\u001b[39;00m \u001b[38;5;28mself\u001b[39m.raw.stream(chunk_size, decode_content=\u001b[38;5;28;01mTrue\u001b[39;00m)\n\u001b[32m    821\u001b[39m     \u001b[38;5;28;01mexcept\u001b[39;00m ProtocolError \u001b[38;5;28;01mas\u001b[39;00m e:\n\u001b[32m    822\u001b[39m         \u001b[38;5;28;01mraise\u001b[39;00m ChunkedEncodingError(e)\n",
      "\u001b[36mFile \u001b[39m\u001b[32m~/github/OpenAIRE-tools/env/lib/python3.12/site-packages/urllib3/response.py:1066\u001b[39m, in \u001b[36mHTTPResponse.stream\u001b[39m\u001b[34m(self, amt, decode_content)\u001b[39m\n\u001b[32m   1064\u001b[39m \u001b[38;5;28;01melse\u001b[39;00m:\n\u001b[32m   1065\u001b[39m     \u001b[38;5;28;01mwhile\u001b[39;00m \u001b[38;5;129;01mnot\u001b[39;00m is_fp_closed(\u001b[38;5;28mself\u001b[39m._fp) \u001b[38;5;129;01mor\u001b[39;00m \u001b[38;5;28mlen\u001b[39m(\u001b[38;5;28mself\u001b[39m._decoded_buffer) > \u001b[32m0\u001b[39m:\n\u001b[32m-> \u001b[39m\u001b[32m1066\u001b[39m         data = \u001b[38;5;28;43mself\u001b[39;49m\u001b[43m.\u001b[49m\u001b[43mread\u001b[49m\u001b[43m(\u001b[49m\u001b[43mamt\u001b[49m\u001b[43m=\u001b[49m\u001b[43mamt\u001b[49m\u001b[43m,\u001b[49m\u001b[43m \u001b[49m\u001b[43mdecode_content\u001b[49m\u001b[43m=\u001b[49m\u001b[43mdecode_content\u001b[49m\u001b[43m)\u001b[49m\n\u001b[32m   1068\u001b[39m         \u001b[38;5;28;01mif\u001b[39;00m data:\n\u001b[32m   1069\u001b[39m             \u001b[38;5;28;01myield\u001b[39;00m data\n",
      "\u001b[36mFile \u001b[39m\u001b[32m~/github/OpenAIRE-tools/env/lib/python3.12/site-packages/urllib3/response.py:942\u001b[39m, in \u001b[36mHTTPResponse.read\u001b[39m\u001b[34m(self, amt, decode_content, cache_content)\u001b[39m\n\u001b[32m    916\u001b[39m \u001b[38;5;28;01mdef\u001b[39;00m\u001b[38;5;250m \u001b[39m\u001b[34mread\u001b[39m(\n\u001b[32m    917\u001b[39m     \u001b[38;5;28mself\u001b[39m,\n\u001b[32m    918\u001b[39m     amt: \u001b[38;5;28mint\u001b[39m | \u001b[38;5;28;01mNone\u001b[39;00m = \u001b[38;5;28;01mNone\u001b[39;00m,\n\u001b[32m    919\u001b[39m     decode_content: \u001b[38;5;28mbool\u001b[39m | \u001b[38;5;28;01mNone\u001b[39;00m = \u001b[38;5;28;01mNone\u001b[39;00m,\n\u001b[32m    920\u001b[39m     cache_content: \u001b[38;5;28mbool\u001b[39m = \u001b[38;5;28;01mFalse\u001b[39;00m,\n\u001b[32m    921\u001b[39m ) -> \u001b[38;5;28mbytes\u001b[39m:\n\u001b[32m    922\u001b[39m \u001b[38;5;250m    \u001b[39m\u001b[33;03m\"\"\"\u001b[39;00m\n\u001b[32m    923\u001b[39m \u001b[33;03m    Similar to :meth:`http.client.HTTPResponse.read`, but with two additional\u001b[39;00m\n\u001b[32m    924\u001b[39m \u001b[33;03m    parameters: ``decode_content`` and ``cache_content``.\u001b[39;00m\n\u001b[32m   (...)\u001b[39m\u001b[32m    940\u001b[39m \u001b[33;03m        set.)\u001b[39;00m\n\u001b[32m    941\u001b[39m \u001b[33;03m    \"\"\"\u001b[39;00m\n\u001b[32m--> \u001b[39m\u001b[32m942\u001b[39m     \u001b[38;5;28;43mself\u001b[39;49m\u001b[43m.\u001b[49m\u001b[43m_init_decoder\u001b[49m\u001b[43m(\u001b[49m\u001b[43m)\u001b[49m\n\u001b[32m    943\u001b[39m     \u001b[38;5;28;01mif\u001b[39;00m decode_content \u001b[38;5;129;01mis\u001b[39;00m \u001b[38;5;28;01mNone\u001b[39;00m:\n\u001b[32m    944\u001b[39m         decode_content = \u001b[38;5;28mself\u001b[39m.decode_content\n",
      "\u001b[36mFile \u001b[39m\u001b[32m~/github/OpenAIRE-tools/env/lib/python3.12/site-packages/urllib3/response.py:456\u001b[39m, in \u001b[36mBaseHTTPResponse._init_decoder\u001b[39m\u001b[34m(self)\u001b[39m\n\u001b[32m    451\u001b[39m \u001b[38;5;250m\u001b[39m\u001b[33;03m\"\"\"\u001b[39;00m\n\u001b[32m    452\u001b[39m \u001b[33;03mSet-up the _decoder attribute if necessary.\u001b[39;00m\n\u001b[32m    453\u001b[39m \u001b[33;03m\"\"\"\u001b[39;00m\n\u001b[32m    454\u001b[39m \u001b[38;5;66;03m# Note: content-encoding value should be case-insensitive, per RFC 7230\u001b[39;00m\n\u001b[32m    455\u001b[39m \u001b[38;5;66;03m# Section 3.2\u001b[39;00m\n\u001b[32m--> \u001b[39m\u001b[32m456\u001b[39m content_encoding = \u001b[38;5;28;43mself\u001b[39;49m\u001b[43m.\u001b[49m\u001b[43mheaders\u001b[49m\u001b[43m.\u001b[49m\u001b[43mget\u001b[49m\u001b[43m(\u001b[49m\u001b[33;43m\"\u001b[39;49m\u001b[33;43mcontent-encoding\u001b[39;49m\u001b[33;43m\"\u001b[39;49m\u001b[43m,\u001b[49m\u001b[43m \u001b[49m\u001b[33;43m\"\u001b[39;49m\u001b[33;43m\"\u001b[39;49m\u001b[43m)\u001b[49m.lower()\n\u001b[32m    457\u001b[39m \u001b[38;5;28;01mif\u001b[39;00m \u001b[38;5;28mself\u001b[39m._decoder \u001b[38;5;129;01mis\u001b[39;00m \u001b[38;5;28;01mNone\u001b[39;00m:\n\u001b[32m    458\u001b[39m     \u001b[38;5;28;01mif\u001b[39;00m content_encoding \u001b[38;5;129;01min\u001b[39;00m \u001b[38;5;28mself\u001b[39m.CONTENT_DECODERS:\n",
      "\u001b[36mFile \u001b[39m\u001b[32m<frozen _collections_abc>:807\u001b[39m, in \u001b[36mget\u001b[39m\u001b[34m(self, key, default)\u001b[39m\n",
      "\u001b[36mFile \u001b[39m\u001b[32m<stringsource>:69\u001b[39m, in \u001b[36mcfunc.to_py.__Pyx_CFunc_4904d5__29_pydevd_sys_monitoring_cython_object__lParen__etc_to_py_4code_11instruction_3exc.wrap\u001b[39m\u001b[34m()\u001b[39m\n",
      "\u001b[36mFile \u001b[39m\u001b[32m_pydevd_sys_monitoring\\\\_pydevd_sys_monitoring_cython.pyx:920\u001b[39m, in \u001b[36m_pydevd_sys_monitoring_cython._unwind_event\u001b[39m\u001b[34m()\u001b[39m\n",
      "\u001b[36mFile \u001b[39m\u001b[32m_pydevd_sys_monitoring\\\\_pydevd_sys_monitoring_cython.pyx:198\u001b[39m, in \u001b[36m_pydevd_sys_monitoring_cython._get_unhandled_exception_frame\u001b[39m\u001b[34m()\u001b[39m\n",
      "\u001b[36mFile \u001b[39m\u001b[32m<frozen posixpath>:125\u001b[39m, in \u001b[36msplitext\u001b[39m\u001b[34m(p)\u001b[39m\n",
      "\u001b[36mFile \u001b[39m\u001b[32m<frozen genericpath>:133\u001b[39m, in \u001b[36m_splitext\u001b[39m\u001b[34m(p, sep, altsep, extsep)\u001b[39m\n",
      "\u001b[31mKeyboardInterrupt\u001b[39m: "
     ]
    }
   ],
   "source": [
    "import requests\n",
    "import os\n",
    "\n",
    "# Create the directory if it doesn't exist\n",
    "os.makedirs(os.path.dirname(download_path), exist_ok=True)\n",
    "\n",
    "# Download the tar file\n",
    "response = requests.get(url)\n",
    "with open(download_path, 'wb') as file:\n",
    "    file.write(response.content)\n",
    "\n",
    "print(\"Download complete.\")"
   ]
  },
  {
   "cell_type": "markdown",
   "metadata": {},
   "source": [
    "extract the tar file"
   ]
  },
  {
   "cell_type": "code",
   "execution_count": null,
   "metadata": {},
   "outputs": [],
   "source": [
    "import os\n",
    "import tarfile\n",
    "\n",
    "# Create the directory if it doesn't exist\n",
    "os.makedirs(extraction_path, exist_ok=True)\n",
    "\n",
    "# Extract the tar file\n",
    "with tarfile.open(download_path, 'r') as tar:\n",
    "    tar.extractall(path=extraction_path)\n",
    "\n",
    "print(\"Extraction complete.\")\n",
    "    "
   ]
  },
  {
   "cell_type": "code",
   "execution_count": 16,
   "metadata": {},
   "outputs": [
    {
     "name": "stdout",
     "output_type": "stream",
     "text": [
      "Number of files: 19\n",
      "First 5 files:\n",
      "aurora\n",
      "Subdirectories:\n",
      "aurora\n",
      "Latest subdirectory: aurora\n",
      "Latest extraction path: ./data/02_extracted/aurora\n"
     ]
    }
   ],
   "source": [
    "# List the extracted files\n",
    "extracted_files = os.listdir(extraction_path)\n",
    "\n",
    "# count he number of files in the extracted folder\n",
    "num_files = len(extracted_path)\n",
    "print(f\"Number of files: {num_files}\")\n",
    "\n",
    "# print the first 5 files\n",
    "print(\"First 5 files:\")\n",
    "for file in extracted_files[:5]:\n",
    "    print(file) \n",
    "\n",
    "# print the added subdirectories\n",
    "subdirectories = [file for file in extracted_files if os.path.isdir(os.path.join(extraction_path, file))]\n",
    "print(\"Subdirectories:\")\n",
    "for subdirectory in subdirectories:\n",
    "    print(subdirectory)\n",
    "\n",
    "# print the latest added subdirectory based on date modified\n",
    "latest_subdirectory = sorted(subdirectories, key=lambda x: os.path.getmtime(os.path.join(extraction_path, x)))[-1]\n",
    "print(f\"Latest subdirectory: {latest_subdirectory}\")\n",
    "\n",
    "# make varable for the path to the latest subdirectory\n",
    "latest_extraction_path = os.path.join(extraction_path, latest_subdirectory)\n",
    "\n",
    "# print the path of the latest extraction path\n",
    "print(f\"Latest extraction path: {latest_extraction_path}\")\n",
    "\n"
   ]
  },
  {
   "cell_type": "code",
   "execution_count": null,
   "metadata": {},
   "outputs": [
    {
     "name": "stdout",
     "output_type": "stream",
     "text": [
      "SQL Schema:\n",
      "authors: STRUCT(fullName VARCHAR, \"name\" VARCHAR, rank BIGINT, surname VARCHAR, pid STRUCT(id STRUCT(scheme VARCHAR, \"value\" VARCHAR), provenance STRUCT(provenance VARCHAR, trust VARCHAR)))[]\n",
      "collectedFrom: STRUCT(\"key\" VARCHAR, \"value\" VARCHAR)[]\n",
      "communities: STRUCT(code VARCHAR, \"label\" VARCHAR, provenance STRUCT(provenance VARCHAR, trust VARCHAR)[])[]\n",
      "contributors: JSON[]\n",
      "countries: JSON[]\n",
      "coverages: JSON[]\n",
      "dateOfCollection: VARCHAR\n",
      "descriptions: VARCHAR[]\n",
      "documentationUrls: JSON[]\n",
      "formats: JSON[]\n",
      "id: VARCHAR\n",
      "indicators: STRUCT(citationImpact STRUCT(citationClass VARCHAR, citationCount DOUBLE, impulse DOUBLE, impulseClass VARCHAR, influence DOUBLE, influenceClass VARCHAR, popularity DOUBLE, popularityClass VARCHAR), usageCounts STRUCT(downloads BIGINT, \"views\" BIGINT))\n",
      "instances: STRUCT(alternateIdentifiers STRUCT(scheme VARCHAR, \"value\" VARCHAR)[], collectedFrom STRUCT(\"key\" VARCHAR, \"value\" VARCHAR), hostedBy STRUCT(\"key\" VARCHAR, \"value\" VARCHAR), pids STRUCT(scheme VARCHAR, \"value\" VARCHAR)[], publicationDate DATE, refereed VARCHAR, \"type\" VARCHAR, urls VARCHAR[], accessRight STRUCT(code VARCHAR, \"label\" VARCHAR, scheme VARCHAR), license VARCHAR)[]\n",
      "language: STRUCT(code VARCHAR, \"label\" VARCHAR)\n",
      "lastUpdateTimeStamp: BIGINT\n",
      "mainTitle: VARCHAR\n",
      "organizations: STRUCT(id VARCHAR, legalName VARCHAR, pids STRUCT(scheme VARCHAR, \"value\" VARCHAR)[])[]\n",
      "originalIds: VARCHAR[]\n",
      "pids: STRUCT(scheme VARCHAR, \"value\" VARCHAR)[]\n",
      "programmingLanguage: VARCHAR\n",
      "publicationDate: DATE\n",
      "publisher: VARCHAR\n",
      "sources: JSON[]\n",
      "subjects: STRUCT(subject STRUCT(scheme VARCHAR, \"value\" VARCHAR))[]\n",
      "type: VARCHAR\n",
      "bestAccessRight: STRUCT(code VARCHAR, \"label\" VARCHAR, scheme VARCHAR)\n"
     ]
    }
   ],
   "source": [
    "import duckdb\n",
    "import os\n",
    "\n",
    "# Connect to an in-memory DuckDB database\n",
    "con = duckdb.connect()\n",
    "\n",
    "# Get the first 3 gzipped JSON files from the latest_extraction_path\n",
    "gz_files = [file for file in os.listdir(latest_extraction_path) if file.endswith(\".gz\")][:3]\n",
    "\n",
    "# Load the gzipped JSON files directly into DuckDB\n",
    "for gz_file in gz_files:\n",
    "    gz_file_path = os.path.join(latest_extraction_path, gz_file)\n",
    "    con.execute(\"CREATE OR REPLACE TEMP TABLE temp_table AS SELECT * FROM read_json_auto(?, compression='gzip')\", [gz_file_path])\n",
    "\n",
    "# Generate the SQL schema from the temporary table\n",
    "schema = con.execute(\"DESCRIBE temp_table\").fetchall()\n",
    "\n",
    "# Print the schema\n",
    "print(\"SQL Schema:\")\n",
    "for column in schema:\n",
    "    print(f\"{column[0]}: {column[1]}\")\n",
    "\n",
    "# Close the DuckDB connection\n",
    "con.close()"
   ]
  }
 ],
 "metadata": {
  "kernelspec": {
   "display_name": "Python 3 (ipykernel)",
   "language": "python",
   "name": "python3"
  },
  "language_info": {
   "codemirror_mode": {
    "name": "ipython",
    "version": 3
   },
   "file_extension": ".py",
   "mimetype": "text/x-python",
   "name": "python",
   "nbconvert_exporter": "python",
   "pygments_lexer": "ipython3",
   "version": "3.10.12"
  }
 },
 "nbformat": 4,
 "nbformat_minor": 4
}
